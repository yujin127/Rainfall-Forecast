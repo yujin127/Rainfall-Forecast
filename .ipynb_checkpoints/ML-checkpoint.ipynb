{
 "cells": [
  {
   "cell_type": "code",
   "execution_count": 1,
   "id": "ac071997",
   "metadata": {},
   "outputs": [],
   "source": [
    "import pandas as pd\n",
    "import numpy as np\n",
    "from sklearn.preprocessing import MinMaxScaler\n",
    "from sklearn.model_selection import train_test_split\n",
    "from sklearn.metrics import mean_squared_error, mean_absolute_error, r2_score\n"
   ]
  },
  {
   "cell_type": "code",
   "execution_count": 2,
   "id": "cc939c6a",
   "metadata": {},
   "outputs": [
    {
     "data": {
      "text/html": [
       "<div>\n",
       "<style scoped>\n",
       "    .dataframe tbody tr th:only-of-type {\n",
       "        vertical-align: middle;\n",
       "    }\n",
       "\n",
       "    .dataframe tbody tr th {\n",
       "        vertical-align: top;\n",
       "    }\n",
       "\n",
       "    .dataframe thead th {\n",
       "        text-align: right;\n",
       "    }\n",
       "</style>\n",
       "<table border=\"1\" class=\"dataframe\">\n",
       "  <thead>\n",
       "    <tr style=\"text-align: right;\">\n",
       "      <th></th>\n",
       "      <th>stn4contest</th>\n",
       "      <th>v01</th>\n",
       "      <th>v02</th>\n",
       "      <th>v03</th>\n",
       "      <th>v04</th>\n",
       "      <th>v05</th>\n",
       "      <th>v06</th>\n",
       "      <th>v07</th>\n",
       "      <th>v08</th>\n",
       "      <th>v09</th>\n",
       "      <th>vv</th>\n",
       "      <th>class_interval</th>\n",
       "      <th>year</th>\n",
       "      <th>month</th>\n",
       "      <th>day</th>\n",
       "      <th>hour</th>\n",
       "    </tr>\n",
       "  </thead>\n",
       "  <tbody>\n",
       "    <tr>\n",
       "      <th>0</th>\n",
       "      <td>0</td>\n",
       "      <td>0.0</td>\n",
       "      <td>0.0</td>\n",
       "      <td>0.0</td>\n",
       "      <td>0.0</td>\n",
       "      <td>0.0</td>\n",
       "      <td>0.0</td>\n",
       "      <td>0.0</td>\n",
       "      <td>0.0</td>\n",
       "      <td>0.0</td>\n",
       "      <td>0.0</td>\n",
       "      <td>0</td>\n",
       "      <td>2020</td>\n",
       "      <td>5</td>\n",
       "      <td>1</td>\n",
       "      <td>12</td>\n",
       "    </tr>\n",
       "    <tr>\n",
       "      <th>1</th>\n",
       "      <td>0</td>\n",
       "      <td>0.0</td>\n",
       "      <td>0.0</td>\n",
       "      <td>0.0</td>\n",
       "      <td>0.0</td>\n",
       "      <td>0.0</td>\n",
       "      <td>0.0</td>\n",
       "      <td>0.0</td>\n",
       "      <td>0.0</td>\n",
       "      <td>0.0</td>\n",
       "      <td>0.0</td>\n",
       "      <td>0</td>\n",
       "      <td>2020</td>\n",
       "      <td>5</td>\n",
       "      <td>1</td>\n",
       "      <td>15</td>\n",
       "    </tr>\n",
       "    <tr>\n",
       "      <th>2</th>\n",
       "      <td>0</td>\n",
       "      <td>0.0</td>\n",
       "      <td>0.0</td>\n",
       "      <td>0.0</td>\n",
       "      <td>0.0</td>\n",
       "      <td>0.0</td>\n",
       "      <td>0.0</td>\n",
       "      <td>0.0</td>\n",
       "      <td>0.0</td>\n",
       "      <td>0.0</td>\n",
       "      <td>0.0</td>\n",
       "      <td>0</td>\n",
       "      <td>2020</td>\n",
       "      <td>5</td>\n",
       "      <td>1</td>\n",
       "      <td>18</td>\n",
       "    </tr>\n",
       "    <tr>\n",
       "      <th>3</th>\n",
       "      <td>0</td>\n",
       "      <td>0.0</td>\n",
       "      <td>0.0</td>\n",
       "      <td>0.0</td>\n",
       "      <td>0.0</td>\n",
       "      <td>0.0</td>\n",
       "      <td>0.0</td>\n",
       "      <td>0.0</td>\n",
       "      <td>0.0</td>\n",
       "      <td>0.0</td>\n",
       "      <td>0.0</td>\n",
       "      <td>0</td>\n",
       "      <td>2020</td>\n",
       "      <td>5</td>\n",
       "      <td>1</td>\n",
       "      <td>21</td>\n",
       "    </tr>\n",
       "    <tr>\n",
       "      <th>4</th>\n",
       "      <td>0</td>\n",
       "      <td>0.0</td>\n",
       "      <td>0.0</td>\n",
       "      <td>0.0</td>\n",
       "      <td>0.0</td>\n",
       "      <td>0.0</td>\n",
       "      <td>0.0</td>\n",
       "      <td>0.0</td>\n",
       "      <td>0.0</td>\n",
       "      <td>0.0</td>\n",
       "      <td>0.0</td>\n",
       "      <td>0</td>\n",
       "      <td>2020</td>\n",
       "      <td>5</td>\n",
       "      <td>2</td>\n",
       "      <td>0</td>\n",
       "    </tr>\n",
       "  </tbody>\n",
       "</table>\n",
       "</div>"
      ],
      "text/plain": [
       "   stn4contest  v01  v02  v03  v04  v05  v06  v07  v08  v09   vv  \\\n",
       "0            0  0.0  0.0  0.0  0.0  0.0  0.0  0.0  0.0  0.0  0.0   \n",
       "1            0  0.0  0.0  0.0  0.0  0.0  0.0  0.0  0.0  0.0  0.0   \n",
       "2            0  0.0  0.0  0.0  0.0  0.0  0.0  0.0  0.0  0.0  0.0   \n",
       "3            0  0.0  0.0  0.0  0.0  0.0  0.0  0.0  0.0  0.0  0.0   \n",
       "4            0  0.0  0.0  0.0  0.0  0.0  0.0  0.0  0.0  0.0  0.0   \n",
       "\n",
       "   class_interval  year  month  day  hour  \n",
       "0               0  2020      5    1    12  \n",
       "1               0  2020      5    1    15  \n",
       "2               0  2020      5    1    18  \n",
       "3               0  2020      5    1    21  \n",
       "4               0  2020      5    2     0  "
      ]
     },
     "execution_count": 2,
     "metadata": {},
     "output_type": "execute_result"
    }
   ],
   "source": [
    "train = pd.read_csv('use_this.csv')\n",
    "train.head()"
   ]
  },
  {
   "cell_type": "code",
   "execution_count": 3,
   "id": "5ff0f484",
   "metadata": {},
   "outputs": [],
   "source": [
    "# 필요한 열 선택 및 새로운 특징 추가\n",
    "features = train[['stn4contest', 'v01', 'v02', 'v03', 'v04', 'v05', 'v06', 'v07', 'v08', 'v09', 'year', 'month', 'day', 'hour']]\n",
    "target = train['vv']\n",
    "\n",
    "# 특징들만 스케일링\n",
    "scaler = MinMaxScaler()\n",
    "features_scaled = scaler.fit_transform(features.drop(columns=['stn4contest']))\n",
    "features_scaled_df = pd.DataFrame(features_scaled, columns=features.columns[1:])\n",
    "features_scaled_df['stn4contest'] = features['stn4contest'].values\n",
    "features_scaled_df['vv'] = target.values  # y 값을 그대로 사용\n",
    "\n",
    "# 관측소 기준으로 데이터 분리\n",
    "train_data = features_scaled_df[features_scaled_df['stn4contest'] <= 16]\n",
    "test_data = features_scaled_df[features_scaled_df['stn4contest'] > 16]\n",
    "\n",
    "X_train = train_data.drop(columns=['vv']).values\n",
    "y_train = train_data['vv'].values\n",
    "X_test = test_data.drop(columns=['vv']).values\n",
    "y_test = test_data['vv'].values"
   ]
  },
  {
   "cell_type": "markdown",
   "id": "43011031-cfa0-4597-8adb-30e8bebc7310",
   "metadata": {},
   "source": [
    "## LightGBM"
   ]
  },
  {
   "cell_type": "code",
   "execution_count": 10,
   "id": "86fb06f0",
   "metadata": {},
   "outputs": [
    {
     "name": "stdout",
     "output_type": "stream",
     "text": [
      "Fitting 3 folds for each of 729 candidates, totalling 2187 fits\n",
      "Best parameters found: {'bagging_fraction': 0.6, 'feature_fraction': 0.6, 'learning_rate': 0.01, 'max_depth': 10, 'n_estimators': 200, 'num_leaves': 100}\n",
      "Best RMSE: 3.4910006957205826\n",
      "LightGBM Model Performance Metrics:\n",
      "Metric    Value               \n",
      "------------------------------\n",
      "RMSE      3.1925              \n",
      "MAE       0.8822              \n",
      "MSE       10.1918             \n",
      "R²        0.3817              \n"
     ]
    }
   ],
   "source": [
    "import lightgbm as lgb\n",
    "from sklearn.metrics import mean_squared_error, mean_absolute_error, r2_score\n",
    "\n",
    "# LightGBM 하이퍼파라미터 그리드 설정\n",
    "lgb_params = {\n",
    "    'num_leaves': [31, 50, 100],\n",
    "    'learning_rate': [0.01, 0.1, 0.2],\n",
    "    'n_estimators': [100, 200, 500],\n",
    "    'max_depth': [-1, 10, 20],\n",
    "    'feature_fraction': [0.6, 0.8, 1.0],\n",
    "    'bagging_fraction': [0.6, 0.8, 1.0]\n",
    "}\n",
    "\n",
    "# LightGBM 모델 정의\n",
    "lgb_model = lgb.LGBMRegressor()\n",
    "\n",
    "# GridSearchCV 설정\n",
    "lgb_grid = GridSearchCV(lgb_model, lgb_params, cv=3, scoring='neg_mean_squared_error', verbose=1, n_jobs=-1)\n",
    "\n",
    "# 모델 학습\n",
    "lgb_grid.fit(X_train, y_train)\n",
    "\n",
    "# 최적 하이퍼파라미터 및 성능 출력\n",
    "print(f\"Best parameters found: {lgb_grid.best_params_}\")\n",
    "print(f\"Best RMSE: {np.sqrt(-lgb_grid.best_score_)}\")\n",
    "\n",
    "# 최적 모델로 예측 및 성능 평가\n",
    "lgb_best_model = lgb_grid.best_estimator_\n",
    "y_pred = lgb_best_model.predict(X_test)\n",
    "rmse = np.sqrt(mean_squared_error(y_test, y_pred))\n",
    "mae = mean_absolute_error(y_test, y_pred)\n",
    "mse = mean_squared_error(y_test, y_pred)\n",
    "r2 = r2_score(y_test, y_pred)\n",
    "\n",
    "print(\"LightGBM Model Performance Metrics:\")\n",
    "print(f\"{'Metric':<10}{'Value':<20}\")\n",
    "print(f\"{'-'*30}\")\n",
    "print(f\"{'RMSE':<10}{rmse:<20.4f}\")\n",
    "print(f\"{'MAE':<10}{mae:<20.4f}\")\n",
    "print(f\"{'MSE':<10}{mse:<20.4f}\")\n",
    "print(f\"{'R²':<10}{r2:<20.4f}\")"
   ]
  },
  {
   "cell_type": "code",
   "execution_count": 20,
   "id": "a83fcbf3-2cae-43a9-ac5d-e3dace2a922e",
   "metadata": {},
   "outputs": [
    {
     "name": "stdout",
     "output_type": "stream",
     "text": [
      "[LightGBM] [Warning] feature_fraction is set=0.6, colsample_bytree=1.0 will be ignored. Current value: feature_fraction=0.6\n",
      "[LightGBM] [Warning] bagging_fraction is set=0.6, subsample=1.0 will be ignored. Current value: bagging_fraction=0.6\n",
      "[LightGBM] [Warning] feature_fraction is set=0.6, colsample_bytree=1.0 will be ignored. Current value: feature_fraction=0.6\n",
      "[LightGBM] [Warning] bagging_fraction is set=0.6, subsample=1.0 will be ignored. Current value: bagging_fraction=0.6\n",
      "[LightGBM] [Info] Auto-choosing col-wise multi-threading, the overhead of testing was 0.002754 seconds.\n",
      "You can set `force_col_wise=true` to remove the overhead.\n",
      "[LightGBM] [Info] Total Bins 2360\n",
      "[LightGBM] [Info] Number of data points in the train set: 66300, number of used features: 14\n",
      "[LightGBM] [Info] Start training from score 0.834257\n"
     ]
    },
    {
     "data": {
      "text/html": [
       "<style>#sk-container-id-1 {color: black;background-color: white;}#sk-container-id-1 pre{padding: 0;}#sk-container-id-1 div.sk-toggleable {background-color: white;}#sk-container-id-1 label.sk-toggleable__label {cursor: pointer;display: block;width: 100%;margin-bottom: 0;padding: 0.3em;box-sizing: border-box;text-align: center;}#sk-container-id-1 label.sk-toggleable__label-arrow:before {content: \"▸\";float: left;margin-right: 0.25em;color: #696969;}#sk-container-id-1 label.sk-toggleable__label-arrow:hover:before {color: black;}#sk-container-id-1 div.sk-estimator:hover label.sk-toggleable__label-arrow:before {color: black;}#sk-container-id-1 div.sk-toggleable__content {max-height: 0;max-width: 0;overflow: hidden;text-align: left;background-color: #f0f8ff;}#sk-container-id-1 div.sk-toggleable__content pre {margin: 0.2em;color: black;border-radius: 0.25em;background-color: #f0f8ff;}#sk-container-id-1 input.sk-toggleable__control:checked~div.sk-toggleable__content {max-height: 200px;max-width: 100%;overflow: auto;}#sk-container-id-1 input.sk-toggleable__control:checked~label.sk-toggleable__label-arrow:before {content: \"▾\";}#sk-container-id-1 div.sk-estimator input.sk-toggleable__control:checked~label.sk-toggleable__label {background-color: #d4ebff;}#sk-container-id-1 div.sk-label input.sk-toggleable__control:checked~label.sk-toggleable__label {background-color: #d4ebff;}#sk-container-id-1 input.sk-hidden--visually {border: 0;clip: rect(1px 1px 1px 1px);clip: rect(1px, 1px, 1px, 1px);height: 1px;margin: -1px;overflow: hidden;padding: 0;position: absolute;width: 1px;}#sk-container-id-1 div.sk-estimator {font-family: monospace;background-color: #f0f8ff;border: 1px dotted black;border-radius: 0.25em;box-sizing: border-box;margin-bottom: 0.5em;}#sk-container-id-1 div.sk-estimator:hover {background-color: #d4ebff;}#sk-container-id-1 div.sk-parallel-item::after {content: \"\";width: 100%;border-bottom: 1px solid gray;flex-grow: 1;}#sk-container-id-1 div.sk-label:hover label.sk-toggleable__label {background-color: #d4ebff;}#sk-container-id-1 div.sk-serial::before {content: \"\";position: absolute;border-left: 1px solid gray;box-sizing: border-box;top: 0;bottom: 0;left: 50%;z-index: 0;}#sk-container-id-1 div.sk-serial {display: flex;flex-direction: column;align-items: center;background-color: white;padding-right: 0.2em;padding-left: 0.2em;position: relative;}#sk-container-id-1 div.sk-item {position: relative;z-index: 1;}#sk-container-id-1 div.sk-parallel {display: flex;align-items: stretch;justify-content: center;background-color: white;position: relative;}#sk-container-id-1 div.sk-item::before, #sk-container-id-1 div.sk-parallel-item::before {content: \"\";position: absolute;border-left: 1px solid gray;box-sizing: border-box;top: 0;bottom: 0;left: 50%;z-index: -1;}#sk-container-id-1 div.sk-parallel-item {display: flex;flex-direction: column;z-index: 1;position: relative;background-color: white;}#sk-container-id-1 div.sk-parallel-item:first-child::after {align-self: flex-end;width: 50%;}#sk-container-id-1 div.sk-parallel-item:last-child::after {align-self: flex-start;width: 50%;}#sk-container-id-1 div.sk-parallel-item:only-child::after {width: 0;}#sk-container-id-1 div.sk-dashed-wrapped {border: 1px dashed gray;margin: 0 0.4em 0.5em 0.4em;box-sizing: border-box;padding-bottom: 0.4em;background-color: white;}#sk-container-id-1 div.sk-label label {font-family: monospace;font-weight: bold;display: inline-block;line-height: 1.2em;}#sk-container-id-1 div.sk-label-container {text-align: center;}#sk-container-id-1 div.sk-container {/* jupyter's `normalize.less` sets `[hidden] { display: none; }` but bootstrap.min.css set `[hidden] { display: none !important; }` so we also need the `!important` here to be able to override the default hidden behavior on the sphinx rendered scikit-learn.org. See: https://github.com/scikit-learn/scikit-learn/issues/21755 */display: inline-block !important;position: relative;}#sk-container-id-1 div.sk-text-repr-fallback {display: none;}</style><div id=\"sk-container-id-1\" class=\"sk-top-container\"><div class=\"sk-text-repr-fallback\"><pre>LGBMRegressor(bagging_fraction=0.6, feature_fraction=0.6, learning_rate=0.01,\n",
       "              max_depth=10, n_estimators=200, num_leaves=100, random_state=42)</pre><b>In a Jupyter environment, please rerun this cell to show the HTML representation or trust the notebook. <br />On GitHub, the HTML representation is unable to render, please try loading this page with nbviewer.org.</b></div><div class=\"sk-container\" hidden><div class=\"sk-item\"><div class=\"sk-estimator sk-toggleable\"><input class=\"sk-toggleable__control sk-hidden--visually\" id=\"sk-estimator-id-1\" type=\"checkbox\" checked><label for=\"sk-estimator-id-1\" class=\"sk-toggleable__label sk-toggleable__label-arrow\">LGBMRegressor</label><div class=\"sk-toggleable__content\"><pre>LGBMRegressor(bagging_fraction=0.6, feature_fraction=0.6, learning_rate=0.01,\n",
       "              max_depth=10, n_estimators=200, num_leaves=100, random_state=42)</pre></div></div></div></div></div>"
      ],
      "text/plain": [
       "LGBMRegressor(bagging_fraction=0.6, feature_fraction=0.6, learning_rate=0.01,\n",
       "              max_depth=10, n_estimators=200, num_leaves=100, random_state=42)"
      ]
     },
     "execution_count": 20,
     "metadata": {},
     "output_type": "execute_result"
    }
   ],
   "source": [
    "import lightgbm as lgb\n",
    "\n",
    "# 최적 하이퍼파라미터 설정\n",
    "best_params = {\n",
    "    'bagging_fraction': 0.6,\n",
    "    'feature_fraction': 0.6,\n",
    "    'learning_rate': 0.01,\n",
    "    'max_depth': 10,\n",
    "    'n_estimators': 200,\n",
    "    'num_leaves': 100\n",
    "}\n",
    "\n",
    "# 모델 초기화 및 학습\n",
    "lgb_model =lgb.LGBMRegressor(**best_params, random_state=42)\n",
    "lgb_model.fit(X_train, y_train)"
   ]
  },
  {
   "cell_type": "code",
   "execution_count": 21,
   "id": "254d8640-e0f1-4b65-8bc1-5e6f4e4f1244",
   "metadata": {},
   "outputs": [],
   "source": [
    "import pickle\n",
    "with open('lgb_best_model.pkl', 'wb') as file:\n",
    "    pickle.dump(lgb_model, file)"
   ]
  },
  {
   "cell_type": "markdown",
   "id": "3e172dca-5e13-42c1-933e-b50fea0c273c",
   "metadata": {},
   "source": [
    "## Random Forest"
   ]
  },
  {
   "cell_type": "code",
   "execution_count": 4,
   "id": "9abea309",
   "metadata": {},
   "outputs": [
    {
     "ename": "NameError",
     "evalue": "name 'GridSearchCV' is not defined",
     "output_type": "error",
     "traceback": [
      "\u001b[1;31m---------------------------------------------------------------------------\u001b[0m",
      "\u001b[1;31mNameError\u001b[0m                                 Traceback (most recent call last)",
      "Cell \u001b[1;32mIn[4], line 16\u001b[0m\n\u001b[0;32m     13\u001b[0m rf_model \u001b[38;5;241m=\u001b[39m RandomForestRegressor(random_state\u001b[38;5;241m=\u001b[39m\u001b[38;5;241m42\u001b[39m)\n\u001b[0;32m     15\u001b[0m \u001b[38;5;66;03m# GridSearchCV 설정\u001b[39;00m\n\u001b[1;32m---> 16\u001b[0m rf_grid \u001b[38;5;241m=\u001b[39m GridSearchCV(rf_model, rf_params, cv\u001b[38;5;241m=\u001b[39m\u001b[38;5;241m3\u001b[39m, scoring\u001b[38;5;241m=\u001b[39m\u001b[38;5;124m'\u001b[39m\u001b[38;5;124mneg_mean_squared_error\u001b[39m\u001b[38;5;124m'\u001b[39m, verbose\u001b[38;5;241m=\u001b[39m\u001b[38;5;241m1\u001b[39m, n_jobs\u001b[38;5;241m=\u001b[39m\u001b[38;5;241m-\u001b[39m\u001b[38;5;241m1\u001b[39m)\n\u001b[0;32m     18\u001b[0m \u001b[38;5;66;03m# 모델 학습\u001b[39;00m\n\u001b[0;32m     19\u001b[0m rf_grid\u001b[38;5;241m.\u001b[39mfit(X_train, y_train)\n",
      "\u001b[1;31mNameError\u001b[0m: name 'GridSearchCV' is not defined"
     ]
    }
   ],
   "source": [
    "from sklearn.ensemble import RandomForestRegressor\n",
    "\n",
    "# RandomForest 하이퍼파라미터 그리드 설정\n",
    "rf_params = {\n",
    "    'n_estimators': [100, 200, 500],\n",
    "    'max_depth': [None, 10, 20, 30],\n",
    "    'min_samples_split': [2, 5, 10],\n",
    "    'min_samples_leaf': [1, 2, 4],\n",
    "    'max_features': ['auto', 'sqrt', 'log2']\n",
    "}\n",
    "\n",
    "# RandomForest 모델 정의\n",
    "rf_model = RandomForestRegressor(random_state=42)\n",
    "\n",
    "# GridSearchCV 설정\n",
    "rf_grid = GridSearchCV(rf_model, rf_params, cv=3, scoring='neg_mean_squared_error', verbose=1, n_jobs=-1)\n",
    "\n",
    "# 모델 학습\n",
    "rf_grid.fit(X_train, y_train)\n",
    "\n",
    "# 최적 하이퍼파라미터 및 성능 출력\n",
    "print(f\"Best parameters found: {rf_grid.best_params_}\")\n",
    "print(f\"Best RMSE: {np.sqrt(-rf_grid.best_score_)}\")\n",
    "\n",
    "# 최적 모델로 예측 및 성능 평가\n",
    "rf_best_model = rf_grid.best_estimator_\n",
    "y_pred = rf_best_model.predict(X_test)\n",
    "rmse = np.sqrt(mean_squared_error(y_test, y_pred))\n",
    "mae = mean_absolute_error(y_test, y_pred)\n",
    "mse = mean_squared_error(y_test, y_pred)\n",
    "r2 = r2_score(y_test, y_pred)\n",
    "\n",
    "print(\"Random Forest Model Performance Metrics:\")\n",
    "print(f\"{'Metric':<10}{'Value':<20}\")\n",
    "print(f\"{'-'*30}\")\n",
    "print(f\"{'RMSE':<10}{rmse:<20.4f}\")\n",
    "print(f\"{'MAE':<10}{mae:<20.4f}\")\n",
    "print(f\"{'MSE':<10}{mse:<20.4f}\")\n",
    "print(f\"{'R²':<10}{r2:<20.4f}\")"
   ]
  },
  {
   "cell_type": "code",
   "execution_count": 13,
   "id": "27817661-7b09-4f16-aacf-ca287020f7e4",
   "metadata": {},
   "outputs": [
    {
     "name": "stdout",
     "output_type": "stream",
     "text": [
      "Random Forest Model Performance Metrics:\n",
      "Metric    Value               \n",
      "------------------------------\n",
      "RMSE      3.2128              \n",
      "MAE       0.8416              \n",
      "MSE       10.3221             \n",
      "R²        0.3738              \n"
     ]
    },
    {
     "ename": "NameError",
     "evalue": "name 'rf_best_model' is not defined",
     "output_type": "error",
     "traceback": [
      "\u001b[1;31m---------------------------------------------------------------------------\u001b[0m",
      "\u001b[1;31mNameError\u001b[0m                                 Traceback (most recent call last)",
      "Cell \u001b[1;32mIn[13], line 39\u001b[0m\n\u001b[0;32m     35\u001b[0m \u001b[38;5;28mprint\u001b[39m(\u001b[38;5;124mf\u001b[39m\u001b[38;5;124m\"\u001b[39m\u001b[38;5;132;01m{\u001b[39;00m\u001b[38;5;124m'\u001b[39m\u001b[38;5;124mR²\u001b[39m\u001b[38;5;124m'\u001b[39m\u001b[38;5;132;01m:\u001b[39;00m\u001b[38;5;124m<10\u001b[39m\u001b[38;5;132;01m}\u001b[39;00m\u001b[38;5;132;01m{\u001b[39;00mr2\u001b[38;5;132;01m:\u001b[39;00m\u001b[38;5;124m<20.4f\u001b[39m\u001b[38;5;132;01m}\u001b[39;00m\u001b[38;5;124m\"\u001b[39m)\n\u001b[0;32m     37\u001b[0m \u001b[38;5;28;01mimport\u001b[39;00m \u001b[38;5;21;01mjoblib\u001b[39;00m\n\u001b[1;32m---> 39\u001b[0m joblib\u001b[38;5;241m.\u001b[39mdump(rf_best_model, \u001b[38;5;124m'\u001b[39m\u001b[38;5;124mrf_best_model.pkl\u001b[39m\u001b[38;5;124m'\u001b[39m)\n",
      "\u001b[1;31mNameError\u001b[0m: name 'rf_best_model' is not defined"
     ]
    }
   ],
   "source": [
    "from sklearn.ensemble import RandomForestRegressor\n",
    "from sklearn.metrics import mean_squared_error, mean_absolute_error, r2_score\n",
    "\n",
    "# RandomForest 하이퍼파라미터 그리드 설정\n",
    "best_params = {\n",
    "    'max_depth': 10,\n",
    "    'max_features': 'sqrt',\n",
    "    'min_samples_leaf': 4,\n",
    "    'min_samples_split': 10,\n",
    "    'n_estimators': 500\n",
    "}\n",
    "\n",
    "# 모델 초기화 및 학습\n",
    "rf_model = RandomForestRegressor(**best_params, random_state=42)\n",
    "rf_model.fit(X_train, y_train)\n",
    "\n",
    "# 모델 평가\n",
    "y_pred = rf_model.predict(X_test)\n",
    "rmse = np.sqrt(mean_squared_error(y_test, y_pred))\n",
    "mae = mean_absolute_error(y_test, y_pred)\n",
    "mse = mean_squared_error(y_test, y_pred)\n",
    "r2 = r2_score(y_test, y_pred)\n",
    "\n",
    "print(\"Random Forest Model Performance Metrics:\")\n",
    "print(f\"{'Metric':<10}{'Value':<20}\")\n",
    "print(f\"{'-'*30}\")\n",
    "print(f\"{'RMSE':<10}{rmse:<20.4f}\")\n",
    "print(f\"{'MAE':<10}{mae:<20.4f}\")\n",
    "print(f\"{'MSE':<10}{mse:<20.4f}\")\n",
    "print(f\"{'R²':<10}{r2:<20.4f}\")\n",
    "\n",
    "import joblib"
   ]
  },
  {
   "cell_type": "code",
   "execution_count": 17,
   "id": "4b7156e7-770f-4007-8505-64798b10c3dd",
   "metadata": {},
   "outputs": [],
   "source": [
    "import pickle\n",
    "with open('rf_best_model.pkl', 'wb') as file:\n",
    "    pickle.dump(rf_model, file)"
   ]
  },
  {
   "cell_type": "code",
   "execution_count": 13,
   "id": "d930603e",
   "metadata": {},
   "outputs": [
    {
     "name": "stdout",
     "output_type": "stream",
     "text": [
      "Fitting 3 folds for each of 270 candidates, totalling 810 fits\n",
      "Best parameters found: {'bagging_temperature': 0.5, 'depth': 6, 'iterations': 100, 'l2_leaf_reg': 9, 'learning_rate': 0.1}\n",
      "Best RMSE: 3.4768424669118545\n",
      "CatBoost Model Performance Metrics:\n",
      "Metric    Value               \n",
      "------------------------------\n",
      "RMSE      3.2581              \n",
      "MAE       0.8728              \n",
      "MSE       10.6154             \n",
      "R²        0.3560              \n"
     ]
    }
   ],
   "source": [
    "from catboost import CatBoostRegressor\n",
    "\n",
    "# CatBoost 하이퍼파라미터 그리드 설정\n",
    "cat_params = {\n",
    "    'iterations': [100, 200, 500],\n",
    "    'learning_rate': [0.01, 0.1],\n",
    "    'depth': [4, 6, 10],\n",
    "    'l2_leaf_reg': [1, 3, 5, 7, 9],\n",
    "    'bagging_temperature': [0.5, 1, 2]\n",
    "}\n",
    "\n",
    "# CatBoost 모델 정의\n",
    "cat_model = CatBoostRegressor(verbose=0)\n",
    "\n",
    "# GridSearchCV 설정\n",
    "cat_grid = GridSearchCV(cat_model, cat_params, cv=3, scoring='neg_mean_squared_error', verbose=1, n_jobs=-1)\n",
    "\n",
    "# 모델 학습\n",
    "cat_grid.fit(X_train, y_train)\n",
    "\n",
    "# 최적 하이퍼파라미터 및 성능 출력\n",
    "print(f\"Best parameters found: {cat_grid.best_params_}\")\n",
    "print(f\"Best RMSE: {np.sqrt(-cat_grid.best_score_)}\")\n",
    "\n",
    "# 최적 모델로 예측 및 성능 평가\n",
    "cat_best_model = cat_grid.best_estimator_\n",
    "y_pred = cat_best_model.predict(X_test)\n",
    "rmse = np.sqrt(mean_squared_error(y_test, y_pred))\n",
    "mae = mean_absolute_error(y_test, y_pred)\n",
    "mse = mean_squared_error(y_test, y_pred)\n",
    "r2 = r2_score(y_test, y_pred)\n",
    "\n",
    "print(\"CatBoost Model Performance Metrics:\")\n",
    "print(f\"{'Metric':<10}{'Value':<20}\")\n",
    "print(f\"{'-'*30}\")\n",
    "print(f\"{'RMSE':<10}{rmse:<20.4f}\")\n",
    "print(f\"{'MAE':<10}{mae:<20.4f}\")\n",
    "print(f\"{'MSE':<10}{mse:<20.4f}\")\n",
    "print(f\"{'R²':<10}{r2:<20.4f}\")"
   ]
  },
  {
   "cell_type": "code",
   "execution_count": 16,
   "id": "966073f4",
   "metadata": {},
   "outputs": [
    {
     "name": "stdout",
     "output_type": "stream",
     "text": [
      "모델이 성공적으로 저장되었습니다.\n"
     ]
    }
   ],
   "source": [
    "import joblib\n",
    "\n",
    "# 모델 저장\n",
    "joblib.dump(lgb_best_model, 'lgb_best_model.pkl')\n",
    "joblib.dump(rf_best_model, 'rf_best_model.pkl')\n",
    "joblib.dump(cat_best_model, 'cat_best_model.pkl')\n",
    "\n",
    "print(\"모델이 성공적으로 저장되었습니다.\")"
   ]
  },
  {
   "cell_type": "code",
   "execution_count": null,
   "id": "1118ff4b-d937-4ec9-a1b8-91c76da7a88d",
   "metadata": {},
   "outputs": [],
   "source": [
    "import joblib\n",
    "\n",
    "joblib.dump(rf_best_model, 'rf_best_model.pkl')"
   ]
  }
 ],
 "metadata": {
  "kernelspec": {
   "display_name": "Python 3 (ipykernel)",
   "language": "python",
   "name": "python3"
  },
  "language_info": {
   "codemirror_mode": {
    "name": "ipython",
    "version": 3
   },
   "file_extension": ".py",
   "mimetype": "text/x-python",
   "name": "python",
   "nbconvert_exporter": "python",
   "pygments_lexer": "ipython3",
   "version": "3.11.7"
  }
 },
 "nbformat": 4,
 "nbformat_minor": 5
}
